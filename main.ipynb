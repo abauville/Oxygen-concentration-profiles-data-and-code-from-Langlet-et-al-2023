{
 "cells": [
  {
   "cell_type": "markdown",
   "id": "a15e322a",
   "metadata": {},
   "source": [
    "# Data treatment to compute surface fluxes from measured O2 profiles\n",
    "\n",
    "This script performs the data treatment and runs the inverse model. The inverse model uses the forward model contained in the file \"pyPROFILE.py\".\n",
    "\n",
    "## 1. Load the data\n",
    "\n",
    "Load data and put them in the proper format for pyPROFILE"
   ]
  },
  {
   "cell_type": "code",
   "execution_count": 1,
   "id": "c4d4481a",
   "metadata": {},
   "outputs": [],
   "source": [
    "# Imports\n",
    "import pandas as pd\n",
    "import numpy as np\n",
    "import matplotlib.pyplot as plt\n",
    "from pyPROFILE import compute_C\n",
    "from scipy.interpolate import interp1d\n",
    "import scipy.optimize as opt\n",
    "import seaborn as sns\n",
    "from sklearn.metrics import r2_score"
   ]
  },
  {
   "cell_type": "code",
   "execution_count": 2,
   "id": "97070a60",
   "metadata": {},
   "outputs": [],
   "source": [
    "df = pd.read_excel(\"./data_20210526.xlsx\")"
   ]
  },
  {
   "cell_type": "markdown",
   "id": "ee0c2af7-e68c-4e7d-9ecc-5215f02e87b8",
   "metadata": {},
   "source": [
    "Then, we inspect the data"
   ]
  },
  {
   "cell_type": "code",
   "execution_count": 3,
   "id": "1866bb96",
   "metadata": {},
   "outputs": [
    {
     "data": {
      "text/html": [
       "<div>\n",
       "<style scoped>\n",
       "    .dataframe tbody tr th:only-of-type {\n",
       "        vertical-align: middle;\n",
       "    }\n",
       "\n",
       "    .dataframe tbody tr th {\n",
       "        vertical-align: top;\n",
       "    }\n",
       "\n",
       "    .dataframe thead th {\n",
       "        text-align: right;\n",
       "    }\n",
       "</style>\n",
       "<table border=\"1\" class=\"dataframe\">\n",
       "  <thead>\n",
       "    <tr style=\"text-align: right;\">\n",
       "      <th></th>\n",
       "      <th>Date</th>\n",
       "      <th>Day</th>\n",
       "      <th>File</th>\n",
       "      <th>Terme</th>\n",
       "      <th>Traitement</th>\n",
       "      <th>Echantillon</th>\n",
       "      <th>Cuve</th>\n",
       "      <th>Zone</th>\n",
       "      <th>Profile</th>\n",
       "      <th>Prof</th>\n",
       "      <th>...</th>\n",
       "      <th>DepthReal</th>\n",
       "      <th>Bot_um</th>\n",
       "      <th>Pinf</th>\n",
       "      <th>Pcoef</th>\n",
       "      <th>PHI</th>\n",
       "      <th>Depth_cm</th>\n",
       "      <th>ALPHA</th>\n",
       "      <th>DB</th>\n",
       "      <th>Bot_cm</th>\n",
       "      <th>D</th>\n",
       "    </tr>\n",
       "  </thead>\n",
       "  <tbody>\n",
       "    <tr>\n",
       "      <th>0</th>\n",
       "      <td>20191112</td>\n",
       "      <td>-1</td>\n",
       "      <td>20191112-B2.xlsx</td>\n",
       "      <td>CT</td>\n",
       "      <td>Forams</td>\n",
       "      <td>B2</td>\n",
       "      <td>B</td>\n",
       "      <td>2</td>\n",
       "      <td>2</td>\n",
       "      <td>Profile 2.1</td>\n",
       "      <td>...</td>\n",
       "      <td>-1200</td>\n",
       "      <td>3000</td>\n",
       "      <td>0.781154</td>\n",
       "      <td>-0.971</td>\n",
       "      <td>1.0</td>\n",
       "      <td>-0.12</td>\n",
       "      <td>0</td>\n",
       "      <td>0.0</td>\n",
       "      <td>0.3</td>\n",
       "      <td>0.000019</td>\n",
       "    </tr>\n",
       "    <tr>\n",
       "      <th>1</th>\n",
       "      <td>20191112</td>\n",
       "      <td>-1</td>\n",
       "      <td>20191112-B2.xlsx</td>\n",
       "      <td>CT</td>\n",
       "      <td>Forams</td>\n",
       "      <td>B2</td>\n",
       "      <td>B</td>\n",
       "      <td>2</td>\n",
       "      <td>2</td>\n",
       "      <td>Profile 2.1</td>\n",
       "      <td>...</td>\n",
       "      <td>-1100</td>\n",
       "      <td>3000</td>\n",
       "      <td>0.781154</td>\n",
       "      <td>-0.971</td>\n",
       "      <td>1.0</td>\n",
       "      <td>-0.11</td>\n",
       "      <td>0</td>\n",
       "      <td>0.0</td>\n",
       "      <td>0.3</td>\n",
       "      <td>0.000019</td>\n",
       "    </tr>\n",
       "    <tr>\n",
       "      <th>2</th>\n",
       "      <td>20191112</td>\n",
       "      <td>-1</td>\n",
       "      <td>20191112-B2.xlsx</td>\n",
       "      <td>CT</td>\n",
       "      <td>Forams</td>\n",
       "      <td>B2</td>\n",
       "      <td>B</td>\n",
       "      <td>2</td>\n",
       "      <td>2</td>\n",
       "      <td>Profile 2.1</td>\n",
       "      <td>...</td>\n",
       "      <td>-1000</td>\n",
       "      <td>3000</td>\n",
       "      <td>0.781154</td>\n",
       "      <td>-0.971</td>\n",
       "      <td>1.0</td>\n",
       "      <td>-0.10</td>\n",
       "      <td>0</td>\n",
       "      <td>0.0</td>\n",
       "      <td>0.3</td>\n",
       "      <td>0.000019</td>\n",
       "    </tr>\n",
       "    <tr>\n",
       "      <th>3</th>\n",
       "      <td>20191112</td>\n",
       "      <td>-1</td>\n",
       "      <td>20191112-B2.xlsx</td>\n",
       "      <td>CT</td>\n",
       "      <td>Forams</td>\n",
       "      <td>B2</td>\n",
       "      <td>B</td>\n",
       "      <td>2</td>\n",
       "      <td>2</td>\n",
       "      <td>Profile 2.1</td>\n",
       "      <td>...</td>\n",
       "      <td>-900</td>\n",
       "      <td>3000</td>\n",
       "      <td>0.781154</td>\n",
       "      <td>-0.971</td>\n",
       "      <td>1.0</td>\n",
       "      <td>-0.09</td>\n",
       "      <td>0</td>\n",
       "      <td>0.0</td>\n",
       "      <td>0.3</td>\n",
       "      <td>0.000019</td>\n",
       "    </tr>\n",
       "    <tr>\n",
       "      <th>4</th>\n",
       "      <td>20191112</td>\n",
       "      <td>-1</td>\n",
       "      <td>20191112-B2.xlsx</td>\n",
       "      <td>CT</td>\n",
       "      <td>Forams</td>\n",
       "      <td>B2</td>\n",
       "      <td>B</td>\n",
       "      <td>2</td>\n",
       "      <td>2</td>\n",
       "      <td>Profile 2.1</td>\n",
       "      <td>...</td>\n",
       "      <td>-800</td>\n",
       "      <td>3000</td>\n",
       "      <td>0.781154</td>\n",
       "      <td>-0.971</td>\n",
       "      <td>1.0</td>\n",
       "      <td>-0.08</td>\n",
       "      <td>0</td>\n",
       "      <td>0.0</td>\n",
       "      <td>0.3</td>\n",
       "      <td>0.000019</td>\n",
       "    </tr>\n",
       "  </tbody>\n",
       "</table>\n",
       "<p>5 rows × 28 columns</p>\n",
       "</div>"
      ],
      "text/plain": [
       "       Date  Day              File Terme Traitement Echantillon Cuve  Zone  \\\n",
       "0  20191112   -1  20191112-B2.xlsx    CT     Forams          B2    B     2   \n",
       "1  20191112   -1  20191112-B2.xlsx    CT     Forams          B2    B     2   \n",
       "2  20191112   -1  20191112-B2.xlsx    CT     Forams          B2    B     2   \n",
       "3  20191112   -1  20191112-B2.xlsx    CT     Forams          B2    B     2   \n",
       "4  20191112   -1  20191112-B2.xlsx    CT     Forams          B2    B     2   \n",
       "\n",
       "   Profile         Prof  ...  DepthReal  Bot_um      Pinf  Pcoef  PHI  \\\n",
       "0        2  Profile 2.1  ...      -1200    3000  0.781154 -0.971  1.0   \n",
       "1        2  Profile 2.1  ...      -1100    3000  0.781154 -0.971  1.0   \n",
       "2        2  Profile 2.1  ...      -1000    3000  0.781154 -0.971  1.0   \n",
       "3        2  Profile 2.1  ...       -900    3000  0.781154 -0.971  1.0   \n",
       "4        2  Profile 2.1  ...       -800    3000  0.781154 -0.971  1.0   \n",
       "\n",
       "   Depth_cm  ALPHA   DB  Bot_cm         D  \n",
       "0     -0.12      0  0.0     0.3  0.000019  \n",
       "1     -0.11      0  0.0     0.3  0.000019  \n",
       "2     -0.10      0  0.0     0.3  0.000019  \n",
       "3     -0.09      0  0.0     0.3  0.000019  \n",
       "4     -0.08      0  0.0     0.3  0.000019  \n",
       "\n",
       "[5 rows x 28 columns]"
      ]
     },
     "execution_count": 3,
     "metadata": {},
     "output_type": "execute_result"
    }
   ],
   "source": [
    "df.head()"
   ]
  },
  {
   "cell_type": "markdown",
   "id": "dd3ab9ee-19e4-473b-bdb7-2e6a119940d7",
   "metadata": {},
   "source": [
    "The function `get_ground_truth` reads data and modifies the data to be suitable as model input."
   ]
  },
  {
   "cell_type": "code",
   "execution_count": 4,
   "id": "42c8e58c-9112-423a-8ee5-98ef31ffc96d",
   "metadata": {},
   "outputs": [],
   "source": [
    "def get_ground_truth(data, echantillon):\n",
    "    temp = data[data['Echantillon']==ech].copy()\n",
    "    \n",
    "    # ------ this block should be refactored (copy of block in model function)\n",
    "    x_top = 0.0\n",
    "    dx = 0.01 # mm\n",
    "    x_bot = temp.reset_index().loc[0,'Bot_cm']\n",
    "    X = np.arange(x_top,x_bot+1e-8,dx)\n",
    "    x_bot = X[-1]\n",
    "    # ------\n",
    "    GT_df = temp[['Depth_cm','Concentration']] # Ground truth\n",
    "    GT_df = GT_df[GT_df['Depth_cm']>=x_top]\n",
    "    GT_df = GT_df[GT_df['Depth_cm']<=x_bot]\n",
    "    C_gt = GT_df['Concentration'].values\n",
    "    X_gt = GT_df['Depth_cm'].values\n",
    "    \n",
    "    return (C_gt, X_gt)"
   ]
  },
  {
   "cell_type": "markdown",
   "id": "ce91f5a3-6186-4f3e-8490-64299ce0885e",
   "metadata": {},
   "source": [
    "## 2. Set the model parameters"
   ]
  },
  {
   "cell_type": "code",
   "execution_count": 5,
   "id": "983be7bc",
   "metadata": {},
   "outputs": [],
   "source": [
    "def get_model_params(data, echantillon):\n",
    "    temp = data[data['Echantillon']==ech].copy()\n",
    "    list_profil = temp['Profile'].unique()\n",
    "    # Define a X profile\n",
    "    dx = 0.01 # mm\n",
    "    x_top = 0.0\n",
    "    x_bot = temp.reset_index().loc[0,'Bot_cm']\n",
    "    X = np.arange(x_top,x_bot+1e-8,dx)\n",
    "    x_bot = X[-1]\n",
    "\n",
    "\n",
    "    # Extract PHI, ALPHA, DB and interpolate at positions X\n",
    "    phi_df = temp[['Depth_cm','PHI','ALPHA','DB','D']].sort_values(by='Depth_cm').fillna(0)\n",
    "    f = interp1d(phi_df['Depth_cm'], phi_df['PHI'])\n",
    "    phi = f(X)\n",
    "\n",
    "    f = interp1d(phi_df['Depth_cm'], phi_df['ALPHA'])\n",
    "    alpha = f(X)\n",
    "\n",
    "    f = interp1d(phi_df['Depth_cm'], phi_df['DB'])\n",
    "    Db = f(X)\n",
    "    \n",
    "    f = interp1d(phi_df['Depth_cm'], phi_df['D'])\n",
    "    D = f(X)\n",
    "    \n",
    "    # Compute the model parameters\n",
    "    Ds = phi**2 * D\n",
    "    PA = phi*alpha\n",
    "\n",
    "    # Get the boundary condition\n",
    "    list_profil = temp['Profile'].unique()\n",
    "    C_top = 0.0\n",
    "    C_bot = 0.0\n",
    "    for prof in list_profil:\n",
    "        C_df = temp[temp['Profile']==prof][['Depth_cm','Concentration']]\n",
    "        f = interp1d(C_df['Depth_cm'], C_df['Concentration'])\n",
    "        C_top += 1.0/len(list_profil) * f(x_top)\n",
    "        C_bot += 1.0/len(list_profil) * f(x_bot)\n",
    "\n",
    "    BC = (3, 0, 0, C_top) # C=0, Flux=0 at the bottom\n",
    "    return (X, PA, phi, Ds, Db, BC)"
   ]
  },
  {
   "cell_type": "markdown",
   "id": "e0678067-6e5a-4aec-8e79-1d42d94956e6",
   "metadata": {},
   "source": [
    "## 4. Define the function that calculates the error between the model and the ground truth (i.e. measured data)\n",
    "\n",
    "The metric used for fitting is the sum of squared errors (SSE). The error is regularized using the elasticnet method to penalize the total variation of the production profile (i.e. the sum of absolute variations). The regularization reduces spurious oscillations in the profile of production (R). The compute profile of R is strongly affected by the parameters of the regularization. However, the total production (or surface flux) is not affected significantly (in the order of 1% difference). This can be verified by running this notebook while setting `regularize = false` in the function SSE.\n",
    "The elasticnet regularization is a better alternative to the \"stepwise regression\" algorithm employed by Berg et al. 1998 according to [Flom et al., 2008](https://www.lexjansen.com/pnwsug/2008/DavidCassell-StoppingStepwise.pdf)."
   ]
  },
  {
   "cell_type": "code",
   "execution_count": 6,
   "id": "6994d5d8",
   "metadata": {},
   "outputs": [],
   "source": [
    "def SSE(vals, X, PA, phi, Ds, Db, BC, C_gt, X_gt, findDb, standardize=True, regularize=True, alpha=0.5, l1_ratio=1.0):\n",
    "    ## SSE: Sum of squared errors \n",
    "    if findDb:\n",
    "        Db = vals[0] * np.ones(phi.shape)\n",
    "        vals = vals[1:]\n",
    "    \n",
    "    K = phi*(Ds+Db) # Diffusivity\n",
    "    x_R = np.linspace(X[0], X[-1], len(vals))\n",
    "    f = interp1d(x_R, vals, kind='linear')\n",
    "    R_interp = f(X)\n",
    "\n",
    "    C_model = compute_C(R_interp, BC,  X, PA, K)\n",
    "    f = interp1d(X, C_model)\n",
    "    C_interp = f(X_gt)\n",
    "    \n",
    "    ## Standardize the ground truth\n",
    "    if standardize:\n",
    "        mu = C_gt.mean()\n",
    "        std = C_gt.std()\n",
    "        C_gt = (C_gt-mu)/std\n",
    "        C_interp = (C_interp-mu)/std\n",
    "    \n",
    "    SSE = np.mean((C_interp - C_gt)**2)\n",
    "    if regularize:\n",
    "        # Following the elasticnet definition in sklearn: https://scikit-learn.org/stable/modules/linear_model.html#elastic-net\n",
    "        Lambda = alpha*SSE\n",
    "        reg_variable = np.diff(vals) # regularization is performed on derivatives of the target variable\n",
    "        L1_norm = np.mean(np.abs(np.diff(vals)))\n",
    "        L2_norm = np.mean(np.diff(vals)**2)\n",
    "        SSE += Lambda*l1_ratio*L1_norm\n",
    "        SSE += Lambda*0.5*(1.0-l1_ratio)*L2_norm\n",
    "        \n",
    "    return SSE"
   ]
  },
  {
   "cell_type": "markdown",
   "id": "f268b68c-f186-43f9-ae14-2dd06829d5b0",
   "metadata": {},
   "source": [
    "## 5. Run the inverse model"
   ]
  },
  {
   "cell_type": "code",
   "execution_count": 7,
   "id": "1197cb02",
   "metadata": {
    "tags": []
   },
   "outputs": [
    {
     "name": "stdout",
     "output_type": "stream",
     "text": [
      "Echantillon: B2, C4, G1, H4, E1, F4, K3, L3, A2, C1, H1, I4, H3, I2, A1, C3, J4, K2, D2, F2, G2, I1, A3, B3, H2, G4, C2, B1, L4, J3, D4, E2, I3, G3, A4, B4, J2, L1, D3, E4, K4, L2, E3, F1, J1, K1, F3, D1, G5, H5, C5, B5, L5, K5, F5, E5, I5, J5, A5, D5, done!\n"
     ]
    }
   ],
   "source": [
    "from pyPROFILE import compute_C\n",
    "# Optimize R\n",
    "# =================\n",
    "list_echantillon = df['Echantillon'].unique()\n",
    "R_dict = {}\n",
    "C_dict = {}\n",
    "Db_dict = {}\n",
    "SSE_dict = {}\n",
    "print('Echantillon: ', end='')\n",
    "fac = 1.0\n",
    "for i, ech in enumerate(list_echantillon):\n",
    "    print(ech, end=', ')\n",
    "    X, PA, phi, Ds, Db, BC = get_model_params(df, ech)\n",
    "    C_gt, X_gt = get_ground_truth(df, ech)\n",
    "    n_vals = 15 # number of points in the production profile\n",
    "\n",
    "    Ds*=fac\n",
    "    findDb = False\n",
    "    if findDb:\n",
    "        n_vals += 1\n",
    "        bounds = [(0.0, Ds[0])]\n",
    "        bounds += [(-100.0,0.0) for i in range(n_vals-1)]\n",
    "    else:\n",
    "        bounds = [(-100.0,0.0) for i in range(n_vals)]\n",
    "    \n",
    "    \n",
    "    vals_0 = -0.001*np.ones(n_vals)\n",
    "        \n",
    "    opt_result = opt.minimize(SSE,vals_0,\n",
    "                              args=(X, PA, phi, Ds, Db, BC, C_gt, X_gt, findDb),\n",
    "                              bounds=bounds,options={'ftol':1e-12})\n",
    "    if findDb:\n",
    "        Db_opt = opt_result.x[0]\n",
    "        R_opt = opt_result.x[1:]\n",
    "        Db_dict[ech] = Db_opt\n",
    "    else:    \n",
    "        R_opt = opt_result.x\n",
    "        Db_dict[ech] = Db[0]\n",
    "        \n",
    "    SSE_dict[ech] = opt_result.fun\n",
    "    \n",
    "    x_R = np.linspace(X[0], X[-1], len(R_opt))\n",
    "    f = interp1d(x_R, R_opt, kind='linear')\n",
    "    R_interp = f(X)\n",
    "    K = phi*(Ds+Db_dict[ech])\n",
    "    C_dict[ech] = compute_C(R_interp,BC, X, PA, K)\n",
    "    \n",
    "    R_dict[ech] = R_opt\n",
    "print('done!')"
   ]
  },
  {
   "cell_type": "markdown",
   "id": "9bc1adc6-3025-499a-b9be-cb997292dacf",
   "metadata": {},
   "source": [
    "# 6. Results inspection\n",
    "## 6.1. Plot O2 profile"
   ]
  },
  {
   "cell_type": "code",
   "execution_count": 8,
   "id": "f7e76310",
   "metadata": {},
   "outputs": [
    {
     "data": {
      "text/plain": [
       "Text(0.5, 1.0, 'Db=0.0e+00, SSE:0.021, R_int: -4.21e-02')"
      ]
     },
     "execution_count": 8,
     "metadata": {},
     "output_type": "execute_result"
    },
    {
     "data": {
      "image/png": "[encoded data removed]",
      "text/plain": [
       "<Figure size 720x360 with 2 Axes>"
      ]
     },
     "metadata": {
      "needs_background": "light"
     },
     "output_type": "display_data"
    }
   ],
   "source": [
    "## Plot for inspection\n",
    "# =================\n",
    "ech = 'F2'\n",
    "X, PA, phi, Ds, Db, BC = get_model_params(df, ech)\n",
    "Db = Db_dict[ech]\n",
    "K = phi*(Ds*fac+Db)\n",
    "C_gt, X_gt = get_ground_truth(df, ech)\n",
    "R = R_dict[ech]\n",
    "temp = df[df['Echantillon']==ech]\n",
    "\n",
    "fig, ax = plt.subplots(1,2,figsize=[10,5],sharey=True)\n",
    "pad = .05*(X[0]-X[-1])\n",
    "plt.ylim(X[-1]-pad, X[0]+pad)\n",
    "plt.sca(ax[0])\n",
    "plt.plot(C_dict[ech],X,'-r',lw=3)\n",
    "plt.plot(temp['Concentration'],temp['Depth_cm'],'.',c=[.6,.6,.6])\n",
    "plt.ylabel('Depth')\n",
    "plt.xlabel('Concentration')\n",
    "plt.sca(ax[1])\n",
    "x_R = np.linspace(X[0], X[-1], len(R_opt))\n",
    "plt.plot(R_dict[ech],x_R,'-ok')\n",
    "plt.xlabel('R')\n",
    "R_int = np.sum(R_dict[ech]*(x_R[1]-x_R[0]))\n",
    "plt.title(f'Db={Db:.1e}, SSE:{SSE_dict[ech]:.2}, R_int: {R_int:.2e}')\n"
   ]
  },
  {
   "cell_type": "markdown",
   "id": "57c01973-3f05-4182-9c61-e38c61e87acc",
   "metadata": {},
   "source": [
    "## 6.2. Print r^2 values"
   ]
  },
  {
   "cell_type": "code",
   "execution_count": 9,
   "id": "2134f0b5-824a-4f4d-b615-12755f60b958",
   "metadata": {},
   "outputs": [
    {
     "data": {
      "text/plain": [
       "'B2: r^2= 0.9943457069918992'"
      ]
     },
     "metadata": {},
     "output_type": "display_data"
    },
    {
     "data": {
      "text/plain": [
       "'C4: r^2= 0.9926260326240426'"
      ]
     },
     "metadata": {},
     "output_type": "display_data"
    },
    {
     "data": {
      "text/plain": [
       "'G1: r^2= 0.994668696359877'"
      ]
     },
     "metadata": {},
     "output_type": "display_data"
    },
    {
     "data": {
      "text/plain": [
       "'H4: r^2= 0.9964469042135726'"
      ]
     },
     "metadata": {},
     "output_type": "display_data"
    },
    {
     "data": {
      "text/plain": [
       "'E1: r^2= 0.9972283296524683'"
      ]
     },
     "metadata": {},
     "output_type": "display_data"
    },
    {
     "data": {
      "text/plain": [
       "'F4: r^2= 0.9982635358117559'"
      ]
     },
     "metadata": {},
     "output_type": "display_data"
    },
    {
     "data": {
      "text/plain": [
       "'K3: r^2= 0.9972083233348669'"
      ]
     },
     "metadata": {},
     "output_type": "display_data"
    },
    {
     "data": {
      "text/plain": [
       "'L3: r^2= 0.9989562154665019'"
      ]
     },
     "metadata": {},
     "output_type": "display_data"
    },
    {
     "data": {
      "text/plain": [
       "'A2: r^2= 0.9973092551032654'"
      ]
     },
     "metadata": {},
     "output_type": "display_data"
    },
    {
     "data": {
      "text/plain": [
       "'C1: r^2= 0.9921522868361188'"
      ]
     },
     "metadata": {},
     "output_type": "display_data"
    },
    {
     "data": {
      "text/plain": [
       "'H1: r^2= 0.9982285537735167'"
      ]
     },
     "metadata": {},
     "output_type": "display_data"
    },
    {
     "data": {
      "text/plain": [
       "'I4: r^2= 0.9930272498453144'"
      ]
     },
     "metadata": {},
     "output_type": "display_data"
    },
    {
     "data": {
      "text/plain": [
       "'H3: r^2= 0.9980984332942375'"
      ]
     },
     "metadata": {},
     "output_type": "display_data"
    },
    {
     "data": {
      "text/plain": [
       "'I2: r^2= 0.9992984820853895'"
      ]
     },
     "metadata": {},
     "output_type": "display_data"
    },
    {
     "data": {
      "text/plain": [
       "'A1: r^2= 0.9988644775522691'"
      ]
     },
     "metadata": {},
     "output_type": "display_data"
    },
    {
     "data": {
      "text/plain": [
       "'C3: r^2= 0.9971605492841806'"
      ]
     },
     "metadata": {},
     "output_type": "display_data"
    },
    {
     "data": {
      "text/plain": [
       "'J4: r^2= 0.9743025768834843'"
      ]
     },
     "metadata": {},
     "output_type": "display_data"
    },
    {
     "data": {
      "text/plain": [
       "'K2: r^2= 0.993716249556044'"
      ]
     },
     "metadata": {},
     "output_type": "display_data"
    },
    {
     "data": {
      "text/plain": [
       "'D2: r^2= 0.9960183473534299'"
      ]
     },
     "metadata": {},
     "output_type": "display_data"
    },
    {
     "data": {
      "text/plain": [
       "'F2: r^2= 0.9813097889461038'"
      ]
     },
     "metadata": {},
     "output_type": "display_data"
    },
    {
     "data": {
      "text/plain": [
       "'G2: r^2= 0.998766832328704'"
      ]
     },
     "metadata": {},
     "output_type": "display_data"
    },
    {
     "data": {
      "text/plain": [
       "'I1: r^2= 0.9907634352131797'"
      ]
     },
     "metadata": {},
     "output_type": "display_data"
    },
    {
     "data": {
      "text/plain": [
       "'A3: r^2= 0.9865645347933425'"
      ]
     },
     "metadata": {},
     "output_type": "display_data"
    },
    {
     "data": {
      "text/plain": [
       "'B3: r^2= 0.9987880973382962'"
      ]
     },
     "metadata": {},
     "output_type": "display_data"
    },
    {
     "data": {
      "text/plain": [
       "'H2: r^2= 0.9964786950980404'"
      ]
     },
     "metadata": {},
     "output_type": "display_data"
    },
    {
     "data": {
      "text/plain": [
       "'G4: r^2= 0.99848555783539'"
      ]
     },
     "metadata": {},
     "output_type": "display_data"
    },
    {
     "data": {
      "text/plain": [
       "'C2: r^2= 0.9666524383903234'"
      ]
     },
     "metadata": {},
     "output_type": "display_data"
    },
    {
     "data": {
      "text/plain": [
       "'B1: r^2= 0.998205917180122'"
      ]
     },
     "metadata": {},
     "output_type": "display_data"
    },
    {
     "data": {
      "text/plain": [
       "'L4: r^2= 0.9969967464961978'"
      ]
     },
     "metadata": {},
     "output_type": "display_data"
    },
    {
     "data": {
      "text/plain": [
       "'J3: r^2= 0.9950133064316704'"
      ]
     },
     "metadata": {},
     "output_type": "display_data"
    },
    {
     "data": {
      "text/plain": [
       "'D4: r^2= 0.9978633478953608'"
      ]
     },
     "metadata": {},
     "output_type": "display_data"
    },
    {
     "data": {
      "text/plain": [
       "'E2: r^2= 0.9948842311257151'"
      ]
     },
     "metadata": {},
     "output_type": "display_data"
    },
    {
     "data": {
      "text/plain": [
       "'I3: r^2= 0.9997105653107713'"
      ]
     },
     "metadata": {},
     "output_type": "display_data"
    },
    {
     "data": {
      "text/plain": [
       "'G3: r^2= 0.9968754456848664'"
      ]
     },
     "metadata": {},
     "output_type": "display_data"
    },
    {
     "data": {
      "text/plain": [
       "'A4: r^2= 0.9946469272572633'"
      ]
     },
     "metadata": {},
     "output_type": "display_data"
    },
    {
     "data": {
      "text/plain": [
       "'B4: r^2= 0.9975299998058523'"
      ]
     },
     "metadata": {},
     "output_type": "display_data"
    },
    {
     "data": {
      "text/plain": [
       "'J2: r^2= 0.998153260679065'"
      ]
     },
     "metadata": {},
     "output_type": "display_data"
    },
    {
     "data": {
      "text/plain": [
       "'L1: r^2= 0.978178256318954'"
      ]
     },
     "metadata": {},
     "output_type": "display_data"
    },
    {
     "data": {
      "text/plain": [
       "'D3: r^2= 0.9851360267056883'"
      ]
     },
     "metadata": {},
     "output_type": "display_data"
    },
    {
     "data": {
      "text/plain": [
       "'E4: r^2= 0.9972236627919897'"
      ]
     },
     "metadata": {},
     "output_type": "display_data"
    },
    {
     "data": {
      "text/plain": [
       "'K4: r^2= 0.9979335923866842'"
      ]
     },
     "metadata": {},
     "output_type": "display_data"
    },
    {
     "data": {
      "text/plain": [
       "'L2: r^2= 0.999342374492076'"
      ]
     },
     "metadata": {},
     "output_type": "display_data"
    },
    {
     "data": {
      "text/plain": [
       "'E3: r^2= 0.9930299624193341'"
      ]
     },
     "metadata": {},
     "output_type": "display_data"
    },
    {
     "data": {
      "text/plain": [
       "'F1: r^2= 0.9921902275850125'"
      ]
     },
     "metadata": {},
     "output_type": "display_data"
    },
    {
     "data": {
      "text/plain": [
       "'J1: r^2= 0.998258285023416'"
      ]
     },
     "metadata": {},
     "output_type": "display_data"
    },
    {
     "data": {
      "text/plain": [
       "'K1: r^2= 0.9946389423947385'"
      ]
     },
     "metadata": {},
     "output_type": "display_data"
    },
    {
     "data": {
      "text/plain": [
       "'F3: r^2= 0.9985815638891195'"
      ]
     },
     "metadata": {},
     "output_type": "display_data"
    },
    {
     "data": {
      "text/plain": [
       "'D1: r^2= 0.9924308276961853'"
      ]
     },
     "metadata": {},
     "output_type": "display_data"
    },
    {
     "data": {
      "text/plain": [
       "'G5: r^2= 0.999185683420783'"
      ]
     },
     "metadata": {},
     "output_type": "display_data"
    },
    {
     "data": {
      "text/plain": [
       "'H5: r^2= 0.999255310247249'"
      ]
     },
     "metadata": {},
     "output_type": "display_data"
    },
    {
     "data": {
      "text/plain": [
       "'C5: r^2= 0.9963634506152402'"
      ]
     },
     "metadata": {},
     "output_type": "display_data"
    },
    {
     "data": {
      "text/plain": [
       "'B5: r^2= 0.9996317643774364'"
      ]
     },
     "metadata": {},
     "output_type": "display_data"
    },
    {
     "data": {
      "text/plain": [
       "'L5: r^2= 0.998615655062722'"
      ]
     },
     "metadata": {},
     "output_type": "display_data"
    },
    {
     "data": {
      "text/plain": [
       "'K5: r^2= 0.9992588458526821'"
      ]
     },
     "metadata": {},
     "output_type": "display_data"
    },
    {
     "data": {
      "text/plain": [
       "'F5: r^2= 0.9987338525163908'"
      ]
     },
     "metadata": {},
     "output_type": "display_data"
    },
    {
     "data": {
      "text/plain": [
       "'E5: r^2= 0.9974722398744829'"
      ]
     },
     "metadata": {},
     "output_type": "display_data"
    },
    {
     "data": {
      "text/plain": [
       "'I5: r^2= 0.9927284550986863'"
      ]
     },
     "metadata": {},
     "output_type": "display_data"
    },
    {
     "data": {
      "text/plain": [
       "'J5: r^2= 0.9950275454138369'"
      ]
     },
     "metadata": {},
     "output_type": "display_data"
    },
    {
     "data": {
      "text/plain": [
       "'A5: r^2= 0.9984382550863319'"
      ]
     },
     "metadata": {},
     "output_type": "display_data"
    },
    {
     "data": {
      "text/plain": [
       "'D5: r^2= 0.9991506052861421'"
      ]
     },
     "metadata": {},
     "output_type": "display_data"
    }
   ],
   "source": [
    "r_sq_dict = {}\n",
    "for ech in list_echantillon:\n",
    "    X, PA, phi, Ds, Db, BC = get_model_params(df, ech)\n",
    "    Db = Db_dict[ech]\n",
    "    K = phi*(Ds*fac+Db)\n",
    "    C_gt, X_gt = get_ground_truth(df, ech)\n",
    "    R = R_dict[ech]\n",
    "    C = C_dict[ech]\n",
    "\n",
    "    f = interp1d(X, C)\n",
    "    C_interp = f(X_gt)\n",
    "\n",
    "    r_sq_dict[ech] = r2_score(C_gt, C_interp)\n",
    "    display(f\"{ech}: r^2= {r_sq_dict[ech]}\")"
   ]
  },
  {
   "cell_type": "markdown",
   "id": "55fe2d0a-3952-42f8-b046-1a6a1306478d",
   "metadata": {},
   "source": [
    "## 6.3. Plot surface fluxes"
   ]
  },
  {
   "cell_type": "code",
   "execution_count": 10,
   "id": "76d97cdd",
   "metadata": {},
   "outputs": [
    {
     "data": {
      "text/plain": [
       "<AxesSubplot:xlabel='R_int'>"
      ]
     },
     "execution_count": 10,
     "metadata": {},
     "output_type": "execute_result"
    },
    {
     "data": {
      "image/png": "[encoded data removed]",
      "text/plain": [
       "<Figure size 576x864 with 1 Axes>"
      ]
     },
     "metadata": {
      "needs_background": "light"
     },
     "output_type": "display_data"
    }
   ],
   "source": [
    "R_int = {}\n",
    "for ech in list_echantillon:\n",
    "    R = R_dict[ech]\n",
    "    x_R = np.linspace(X[0], X[-1], len(R))\n",
    "    R_int[ech] = np.sum(R_dict[ech]*(x_R[1]-x_R[0]))\n",
    "R_int_df = pd.DataFrame.from_dict(R_int,orient='index',columns=['R_int'])\n",
    "R_int_df.sort_index(inplace=True)\n",
    "fig = plt.figure(figsize=[8,12])\n",
    "sns.barplot(data=R_int_df,y=R_int_df.index, x='R_int')"
   ]
  },
  {
   "cell_type": "markdown",
   "id": "f9766896-5e5e-4709-8370-53f52b3f914a",
   "metadata": {},
   "source": [
    "## 7. Write results to file"
   ]
  },
  {
   "cell_type": "code",
   "execution_count": 11,
   "id": "525ae70f",
   "metadata": {},
   "outputs": [
    {
     "data": {
      "text/html": [
       "<div>\n",
       "<style scoped>\n",
       "    .dataframe tbody tr th:only-of-type {\n",
       "        vertical-align: middle;\n",
       "    }\n",
       "\n",
       "    .dataframe tbody tr th {\n",
       "        vertical-align: top;\n",
       "    }\n",
       "\n",
       "    .dataframe thead th {\n",
       "        text-align: right;\n",
       "    }\n",
       "</style>\n",
       "<table border=\"1\" class=\"dataframe\">\n",
       "  <thead>\n",
       "    <tr style=\"text-align: right;\">\n",
       "      <th></th>\n",
       "      <th>Echantillon</th>\n",
       "      <th>Type</th>\n",
       "      <th>Value</th>\n",
       "      <th>Depth_cm</th>\n",
       "    </tr>\n",
       "  </thead>\n",
       "  <tbody>\n",
       "    <tr>\n",
       "      <th>41</th>\n",
       "      <td>D5</td>\n",
       "      <td>C</td>\n",
       "      <td>4.209375</td>\n",
       "      <td>0.41</td>\n",
       "    </tr>\n",
       "    <tr>\n",
       "      <th>42</th>\n",
       "      <td>D5</td>\n",
       "      <td>C</td>\n",
       "      <td>2.740927</td>\n",
       "      <td>0.42</td>\n",
       "    </tr>\n",
       "    <tr>\n",
       "      <th>43</th>\n",
       "      <td>D5</td>\n",
       "      <td>C</td>\n",
       "      <td>1.629117</td>\n",
       "      <td>0.43</td>\n",
       "    </tr>\n",
       "    <tr>\n",
       "      <th>44</th>\n",
       "      <td>D5</td>\n",
       "      <td>C</td>\n",
       "      <td>0.755116</td>\n",
       "      <td>0.44</td>\n",
       "    </tr>\n",
       "    <tr>\n",
       "      <th>45</th>\n",
       "      <td>D5</td>\n",
       "      <td>C</td>\n",
       "      <td>0.000000</td>\n",
       "      <td>0.45</td>\n",
       "    </tr>\n",
       "  </tbody>\n",
       "</table>\n",
       "</div>"
      ],
      "text/plain": [
       "   Echantillon Type     Value  Depth_cm\n",
       "41          D5    C  4.209375      0.41\n",
       "42          D5    C  2.740927      0.42\n",
       "43          D5    C  1.629117      0.43\n",
       "44          D5    C  0.755116      0.44\n",
       "45          D5    C  0.000000      0.45"
      ]
     },
     "execution_count": 11,
     "metadata": {},
     "output_type": "execute_result"
    }
   ],
   "source": [
    "# Output\n",
    "\n",
    "out_df = pd.DataFrame(columns=['Echantillon','Type','Value','Depth_cm'])\n",
    "for i, ech in enumerate(list_echantillon):\n",
    "    ech_dict_Db = {}\n",
    "    for ech in [ech]:\n",
    "        ech_dict_Db['Echantillon'] = ech\n",
    "        ech_dict_Db['Type'] = ['Db','SSE', 'R_int', 'r^2']\n",
    "        ech_dict_Db['Value'] = [Db_dict[ech], SSE_dict[ech], R_int[ech], r_sq_dict[ech]]\n",
    "        ech_dict_Db['Depth_cm'] = [np.nan, np.nan, np.nan, np.nan]\n",
    "\n",
    "    ech_dict_R = {}\n",
    "    for ech in [ech]:\n",
    "        ech_dict_R['Echantillon'] = ech\n",
    "        ech_dict_R['Type'] = 'R'\n",
    "        ech_dict_R['Value'] = R_dict[ech]\n",
    "        ech_dict_R['Depth_cm'] = np.linspace(X[0], X[-1], len(R_dict[ech]))\n",
    "\n",
    "    ech_dict_C = {}\n",
    "    for ech in [ech]:\n",
    "        X, PA, phi, Ds, Db, BC = get_model_params(df, ech)\n",
    "        ech_dict_C['Echantillon'] = ech\n",
    "        ech_dict_C['Type'] = 'C'\n",
    "        ech_dict_C['Value'] = C_dict[ech]\n",
    "        ech_dict_C['Depth_cm'] = X\n",
    "    \n",
    "    \n",
    "    out_df = pd.concat([out_df, pd.DataFrame.from_dict(ech_dict_Db)])        \n",
    "    out_df = pd.concat([out_df, pd.DataFrame.from_dict(ech_dict_R )])\n",
    "    out_df = pd.concat([out_df, pd.DataFrame.from_dict(ech_dict_C )])\n",
    "\n",
    "\n",
    "out_df.tail()"
   ]
  },
  {
   "cell_type": "code",
   "execution_count": 12,
   "id": "be6631ae",
   "metadata": {},
   "outputs": [],
   "source": [
    "# Write file\n",
    "out_df.to_csv(f\"./output.csv\")"
   ]
  }
 ],
 "metadata": {
  "kernelspec": {
   "display_name": "Python 3",
   "language": "python",
   "name": "python3"
  },
  "language_info": {
   "codemirror_mode": {
    "name": "ipython",
    "version": 3
   },
   "file_extension": ".py",
   "mimetype": "text/x-python",
   "name": "python",
   "nbconvert_exporter": "python",
   "pygments_lexer": "ipython3",
   "version": "3.8.8"
  }
 },
 "nbformat": 4,
 "nbformat_minor": 5
}
